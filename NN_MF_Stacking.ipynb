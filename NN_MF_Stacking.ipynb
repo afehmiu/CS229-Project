{
  "nbformat": 4,
  "nbformat_minor": 0,
  "metadata": {
    "colab": {
      "name": "NN-MF-Stacking",
      "provenance": [],
      "collapsed_sections": []
    },
    "kernelspec": {
      "name": "python3",
      "display_name": "Python 3"
    },
    "accelerator": "GPU"
  },
  "cells": [
    {
      "cell_type": "code",
      "metadata": {
        "id": "hodm-I1YMBKi",
        "colab_type": "code",
        "colab": {
          "base_uri": "https://localhost:8080/",
          "height": 122
        },
        "outputId": "3154ebbb-f736-4584-c52b-4ee75cf58b35"
      },
      "source": [
        "%load_ext autoreload\n",
        "%matplotlib inline\n",
        "%autoreload 2\n",
        "\n",
        "from IPython import display\n",
        "import torch\n",
        "from torch import nn, optim\n",
        "from torch.autograd.variable import Variable\n",
        "from torchvision import transforms, datasets\n",
        "import os\n",
        "import numpy as np\n",
        "import errno\n",
        "import torchvision.utils as vutils\n",
        "from IPython import display\n",
        "from matplotlib import pyplot as plt\n",
        "import torch\n",
        "import h5py\n",
        "from google.colab import drive\n",
        "drive.mount('/content/gdrive')"
      ],
      "execution_count": 22,
      "outputs": [
        {
          "output_type": "stream",
          "text": [
            "Go to this URL in a browser: https://accounts.google.com/o/oauth2/auth?client_id=947318989803-6bn6qk8qdgf4n4g3pfee6491hc0brc4i.apps.googleusercontent.com&redirect_uri=urn%3aietf%3awg%3aoauth%3a2.0%3aoob&response_type=code&scope=email%20https%3a%2f%2fwww.googleapis.com%2fauth%2fdocs.test%20https%3a%2f%2fwww.googleapis.com%2fauth%2fdrive%20https%3a%2f%2fwww.googleapis.com%2fauth%2fdrive.photos.readonly%20https%3a%2f%2fwww.googleapis.com%2fauth%2fpeopleapi.readonly\n",
            "\n",
            "Enter your authorization code:\n",
            "··········\n",
            "Mounted at /content/gdrive\n"
          ],
          "name": "stdout"
        }
      ]
    },
    {
      "cell_type": "code",
      "metadata": {
        "id": "xHXle352MF3e",
        "colab_type": "code",
        "colab": {}
      },
      "source": [
        "from sklearn.model_selection import train_test_split\n",
        "expression_small = np.load(\"/content/gdrive/My Drive/Colab Notebooks/expression_small.npy\")"
      ],
      "execution_count": 0,
      "outputs": []
    },
    {
      "cell_type": "code",
      "metadata": {
        "id": "XbA0e6V_MVun",
        "colab_type": "code",
        "colab": {}
      },
      "source": [
        "## Removing genes with 0 expression\n",
        "mask = np.sum(expression_small,axis=0)>0\n",
        "expression_small[:,mask]\n",
        "measurements = 300\n",
        "num_genes = expression_small.shape[1]\n",
        "\n",
        "## Simulating random composite measurements\n",
        "A = np.random.normal(size=(measurements,num_genes))\n",
        "compressed_mes = np.dot(A,expression_small.T).T\n",
        "X_train, X_test,y_train, y_test = train_test_split(compressed_mes,expression_small,test_size=0.2)\n",
        "\n",
        "# Normalize training measurements\n",
        "X_train_std = np.std(X_train,axis=0)\n",
        "X_train_mean = np.mean(X_train,axis=0)\n",
        "X_train = np.divide(X_train - X_train_mean,X_train_std)\n",
        "\n",
        "# Normalize testing measurements\n",
        "X_test_mean = np.mean(X_test,axis=0)\n",
        "X_test_std = np.std(X_test,axis=0)\n",
        "X_test = np.divide(X_test - X_test_mean,X_test_std)\n",
        "\n",
        "# Normalize y_train data\n",
        "y_train_std = np.std(y_train,axis=0)\n",
        "y_train_std[y_train_std==0] = 1\n",
        "y_train_mean = np.mean(y_train,axis=0)\n",
        "y_train = np.divide(y_train - y_train_mean,y_train_std)"
      ],
      "execution_count": 0,
      "outputs": []
    },
    {
      "cell_type": "code",
      "metadata": {
        "id": "GzZ-e7SzYjKi",
        "colab_type": "code",
        "colab": {}
      },
      "source": [
        "train_actual = np.load(\"/content/gdrive/My Drive/Colab Notebooks/SMAF_gene_actual_train_100.npy\").T\n",
        "train_pred = np.load(\"/content/gdrive/My Drive/Colab Notebooks/SMAF_gene_pred_train_100.npy\").T\n",
        "num_genes = train_actual.shape[1]"
      ],
      "execution_count": 0,
      "outputs": []
    },
    {
      "cell_type": "code",
      "metadata": {
        "id": "N9f6h4DxxdJA",
        "colab_type": "code",
        "colab": {}
      },
      "source": [
        "test_actual = np.load(\"/content/gdrive/My Drive/Colab Notebooks/SMAF_gene_actual_test_100.npy\").T\n",
        "test_pred = np.load(\"/content/gdrive/My Drive/Colab Notebooks/SMAF_gene_pred_test_100.npy\").T"
      ],
      "execution_count": 0,
      "outputs": []
    },
    {
      "cell_type": "code",
      "metadata": {
        "id": "7aSpLOMKozlJ",
        "colab_type": "code",
        "outputId": "e02fa6d9-3ceb-4e19-fd30-6fd823334eb8",
        "colab": {
          "base_uri": "https://localhost:8080/",
          "height": 34
        }
      },
      "source": [
        "import scipy\n",
        "scipy.stats.pearsonr(train_actual.flatten(),train_pred.flatten())"
      ],
      "execution_count": 115,
      "outputs": [
        {
          "output_type": "execute_result",
          "data": {
            "text/plain": [
              "(0.9041418454534761, 0.0)"
            ]
          },
          "metadata": {
            "tags": []
          },
          "execution_count": 115
        }
      ]
    },
    {
      "cell_type": "code",
      "metadata": {
        "id": "U5By-hu_l0fh",
        "colab_type": "code",
        "colab": {}
      },
      "source": [
        "class Net(nn.Module):\n",
        "\n",
        "    def __init__(self):\n",
        "        super(Net, self).__init__()\n",
        "        n_features = num_genes\n",
        "        n_out = num_genes\n",
        "        \n",
        "        self.hidden0 = nn.Sequential(\n",
        "            nn.Linear(n_features, 300),\n",
        "            nn.ReLU(0.2)\n",
        "        )\n",
        "        self.hidden1 = nn.Sequential(            \n",
        "            nn.Linear(300, 300),\n",
        "            nn.ReLU(0.2)\n",
        "        )\n",
        "        self.hidden2 = nn.Sequential(\n",
        "            nn.Linear(300, 300),\n",
        "            nn.ReLU(0.2)\n",
        "        )\n",
        "        self.hidden3 = nn.Sequential(\n",
        "            nn.Linear(300, 300),\n",
        "            nn.ReLU(0.2)\n",
        "        )\n",
        "        \n",
        "        self.out = nn.Sequential(\n",
        "            nn.Linear(300, n_out)\n",
        "            # nn.Sigmoid()\n",
        "        )\n",
        "\n",
        "    def forward(self, x):\n",
        "        x = self.hidden0(x)\n",
        "        x = self.hidden1(x)\n",
        "        x = self.hidden2(x)\n",
        "        x = self.hidden3(x)\n",
        "        x = self.out(x)\n",
        "        return x"
      ],
      "execution_count": 0,
      "outputs": []
    },
    {
      "cell_type": "code",
      "metadata": {
        "id": "mAZWIfjRwKBL",
        "colab_type": "code",
        "colab": {}
      },
      "source": [
        "# discriminator = DiscriminatorNet()\n",
        "net = Net()\n",
        "if torch.cuda.is_available():\n",
        "    # discriminator.cuda()\n",
        "    net.cuda()"
      ],
      "execution_count": 0,
      "outputs": []
    },
    {
      "cell_type": "code",
      "metadata": {
        "id": "y_NE8HiwwMLH",
        "colab_type": "code",
        "colab": {}
      },
      "source": [
        "X_train = torch.from_numpy(train_pred.astype(float)).cuda().float()\n",
        "Y_train = torch.from_numpy(train_actual.astype(float)).cuda().float()"
      ],
      "execution_count": 0,
      "outputs": []
    },
    {
      "cell_type": "code",
      "metadata": {
        "id": "RSTfBCBrw28s",
        "colab_type": "code",
        "colab": {}
      },
      "source": [
        "optimizer = torch.optim.Adam(net.parameters(), lr=0.0001,weight_decay=1.0)\n",
        "criterion = nn.MSELoss()"
      ],
      "execution_count": 0,
      "outputs": []
    },
    {
      "cell_type": "code",
      "metadata": {
        "id": "SKRC7xL5wV70",
        "colab_type": "code",
        "outputId": "63b4ffee-f0c6-4c95-d267-9a6e54a405b6",
        "colab": {
          "base_uri": "https://localhost:8080/",
          "height": 697
        }
      },
      "source": [
        "import scipy\n",
        "import math\n",
        "for epoch in range(4000):  # loop over the dataset multiple times\n",
        "    running_loss = 0.0\n",
        "    total_correlation = 0.0\n",
        "    count = 0\n",
        "    # loss = torch.tensor(0).cuda()\n",
        "    optimizer.zero_grad()\n",
        "    outputs=net(X_train)\n",
        "    loss = criterion(outputs,Y_train)\n",
        "    loss.backward()\n",
        "    optimizer.step()\n",
        "    if epoch % 200 == 0:\n",
        "      print(\"epoch:\",epoch)\n",
        "      print(\"loss\",loss.item())"
      ],
      "execution_count": 130,
      "outputs": [
        {
          "output_type": "stream",
          "text": [
            "epoch: 0\n",
            "loss 2053490.75\n",
            "epoch: 200\n",
            "loss 468940.8125\n",
            "epoch: 400\n",
            "loss 355413.0\n",
            "epoch: 600\n",
            "loss 312160.28125\n",
            "epoch: 800\n",
            "loss 287517.46875\n",
            "epoch: 1000\n",
            "loss 271837.0625\n",
            "epoch: 1200\n",
            "loss 260699.40625\n",
            "epoch: 1400\n",
            "loss 252017.453125\n",
            "epoch: 1600\n",
            "loss 244976.640625\n",
            "epoch: 1800\n",
            "loss 238865.828125\n",
            "epoch: 2000\n",
            "loss 233718.421875\n",
            "epoch: 2200\n",
            "loss 228980.75\n",
            "epoch: 2400\n",
            "loss 224816.515625\n",
            "epoch: 2600\n",
            "loss 221136.203125\n",
            "epoch: 2800\n",
            "loss 217453.859375\n",
            "epoch: 3000\n",
            "loss 214061.578125\n",
            "epoch: 3200\n",
            "loss 211107.328125\n",
            "epoch: 3400\n",
            "loss 208184.796875\n",
            "epoch: 3600\n",
            "loss 205471.140625\n",
            "epoch: 3800\n",
            "loss 202849.875\n"
          ],
          "name": "stdout"
        }
      ]
    },
    {
      "cell_type": "code",
      "metadata": {
        "id": "qkOzvZ5Dw5cQ",
        "colab_type": "code",
        "outputId": "3a82d3c9-40e4-4105-b07d-dc268271c798",
        "colab": {
          "base_uri": "https://localhost:8080/",
          "height": 34
        }
      },
      "source": [
        "out = net(X_train).cpu().data.numpy()\n",
        "y_nump = Y_train.cpu().data.numpy()\n",
        "scipy.stats.pearsonr(out.flatten(),y_nump.flatten())"
      ],
      "execution_count": 131,
      "outputs": [
        {
          "output_type": "execute_result",
          "data": {
            "text/plain": [
              "(0.9448718931146857, 0.0)"
            ]
          },
          "metadata": {
            "tags": []
          },
          "execution_count": 131
        }
      ]
    },
    {
      "cell_type": "code",
      "metadata": {
        "id": "NkfaPdS8xRXY",
        "colab_type": "code",
        "colab": {}
      },
      "source": [
        "X_test = torch.from_numpy(test_pred.astype(float)).cuda().float()\n",
        "Y_test = torch.from_numpy(test_actual.astype(float)).cuda().float()\n",
        "out = net(X_test).cpu().data.numpy()"
      ],
      "execution_count": 0,
      "outputs": []
    },
    {
      "cell_type": "code",
      "metadata": {
        "id": "cRc40qi8ywr3",
        "colab_type": "code",
        "outputId": "3e252daa-7f1c-4ca0-a05b-a0a7611f4520",
        "colab": {
          "base_uri": "https://localhost:8080/",
          "height": 34
        }
      },
      "source": [
        "y_nump = Y_test.cpu().data.numpy()\n",
        "scipy.stats.pearsonr(out.flatten(),y_nump.flatten())"
      ],
      "execution_count": 133,
      "outputs": [
        {
          "output_type": "execute_result",
          "data": {
            "text/plain": [
              "(0.873217216423883, 0.0)"
            ]
          },
          "metadata": {
            "tags": []
          },
          "execution_count": 133
        }
      ]
    },
    {
      "cell_type": "code",
      "metadata": {
        "id": "2gKUobhKy0v6",
        "colab_type": "code",
        "outputId": "7b70a447-3a0e-49ce-95e0-6731b45cd9b8",
        "colab": {
          "base_uri": "https://localhost:8080/",
          "height": 34
        }
      },
      "source": [
        "scipy.stats.pearsonr(test_pred.flatten(),test_actual.flatten())"
      ],
      "execution_count": 134,
      "outputs": [
        {
          "output_type": "execute_result",
          "data": {
            "text/plain": [
              "(0.8908292668055353, 0.0)"
            ]
          },
          "metadata": {
            "tags": []
          },
          "execution_count": 134
        }
      ]
    },
    {
      "cell_type": "code",
      "metadata": {
        "id": "Ge_cYdgYy_aM",
        "colab_type": "code",
        "outputId": "44c2c30c-596a-44cc-a257-90706f234cb5",
        "colab": {
          "base_uri": "https://localhost:8080/",
          "height": 34
        }
      },
      "source": [
        "scipy.stats.pearsonr(train_pred.flatten(),train_actual.flatten())"
      ],
      "execution_count": 135,
      "outputs": [
        {
          "output_type": "execute_result",
          "data": {
            "text/plain": [
              "(0.9041418454534761, 0.0)"
            ]
          },
          "metadata": {
            "tags": []
          },
          "execution_count": 135
        }
      ]
    },
    {
      "cell_type": "code",
      "metadata": {
        "id": "as-gPkAezHbG",
        "colab_type": "code",
        "colab": {
          "base_uri": "https://localhost:8080/",
          "height": 34
        },
        "outputId": "6f4bdce8-7769-45ac-c82f-cefc6057c677"
      },
      "source": [
        "out_new = scipy.spatial.distance.pdist(out, metric='euclidean')\n",
        "\n",
        "y_test_new = scipy.spatial.distance.pdist(y_nump, metric='euclidean')\n",
        "\n",
        "pearson_corr = scipy.stats.pearsonr(out_new, y_test_new)\n",
        "\n",
        "print(pearson_corr[0])"
      ],
      "execution_count": 136,
      "outputs": [
        {
          "output_type": "stream",
          "text": [
            "0.9781277044483838\n"
          ],
          "name": "stdout"
        }
      ]
    },
    {
      "cell_type": "code",
      "metadata": {
        "id": "X-JKu-nEQ4Mz",
        "colab_type": "code",
        "colab": {}
      },
      "source": [
        "import numpy as np\n",
        "import pandas as pd\n",
        "import matplotlib.pyplot as plt\n",
        "import seaborn as sns\n",
        "sns.set(style=\"darkgrid\")\n"
      ],
      "execution_count": 0,
      "outputs": []
    },
    {
      "cell_type": "code",
      "metadata": {
        "id": "8UUu8SApWwL5",
        "colab_type": "code",
        "colab": {
          "base_uri": "https://localhost:8080/",
          "height": 713
        },
        "outputId": "ce8aeae7-c156-4494-9e61-ee3024e77e65"
      },
      "source": [
        "fmri = sns.load_dataset(\"fmri\")\n",
        "sns.relplot(x=\"timepoint\", y=\"signal\", kind=\"line\", data=fmri);\n",
        "sns.relplot(x=\"timepoint\", y=\"signal\", kind=\"line\", data=fmri);"
      ],
      "execution_count": 140,
      "outputs": [
        {
          "output_type": "display_data",
          "data": {
            "image/png": "[encoded data removed]",
            "text/plain": [
              "<Figure size 360x360 with 1 Axes>"
            ]
          },
          "metadata": {
            "tags": []
          }
        },
        {
          "output_type": "display_data",
          "data": {
            "image/png": "[encoded data removed]",
            "text/plain": [
              "<Figure size 360x360 with 1 Axes>"
            ]
          },
          "metadata": {
            "tags": []
          }
        }
      ]
    },
    {
      "cell_type": "code",
      "metadata": {
        "id": "HaFjHp2VW0x9",
        "colab_type": "code",
        "colab": {
          "base_uri": "https://localhost:8080/",
          "height": 419
        },
        "outputId": "89c3ce65-53c9-4467-86dc-818a2fa193ec"
      },
      "source": [
        "fmri"
      ],
      "execution_count": 139,
      "outputs": [
        {
          "output_type": "execute_result",
          "data": {
            "text/html": [
              "<div>\n",
              "<style scoped>\n",
              "    .dataframe tbody tr th:only-of-type {\n",
              "        vertical-align: middle;\n",
              "    }\n",
              "\n",
              "    .dataframe tbody tr th {\n",
              "        vertical-align: top;\n",
              "    }\n",
              "\n",
              "    .dataframe thead th {\n",
              "        text-align: right;\n",
              "    }\n",
              "</style>\n",
              "<table border=\"1\" class=\"dataframe\">\n",
              "  <thead>\n",
              "    <tr style=\"text-align: right;\">\n",
              "      <th></th>\n",
              "      <th>subject</th>\n",
              "      <th>timepoint</th>\n",
              "      <th>event</th>\n",
              "      <th>region</th>\n",
              "      <th>signal</th>\n",
              "    </tr>\n",
              "  </thead>\n",
              "  <tbody>\n",
              "    <tr>\n",
              "      <th>0</th>\n",
              "      <td>s13</td>\n",
              "      <td>18</td>\n",
              "      <td>stim</td>\n",
              "      <td>parietal</td>\n",
              "      <td>-0.017552</td>\n",
              "    </tr>\n",
              "    <tr>\n",
              "      <th>1</th>\n",
              "      <td>s5</td>\n",
              "      <td>14</td>\n",
              "      <td>stim</td>\n",
              "      <td>parietal</td>\n",
              "      <td>-0.080883</td>\n",
              "    </tr>\n",
              "    <tr>\n",
              "      <th>2</th>\n",
              "      <td>s12</td>\n",
              "      <td>18</td>\n",
              "      <td>stim</td>\n",
              "      <td>parietal</td>\n",
              "      <td>-0.081033</td>\n",
              "    </tr>\n",
              "    <tr>\n",
              "      <th>3</th>\n",
              "      <td>s11</td>\n",
              "      <td>18</td>\n",
              "      <td>stim</td>\n",
              "      <td>parietal</td>\n",
              "      <td>-0.046134</td>\n",
              "    </tr>\n",
              "    <tr>\n",
              "      <th>4</th>\n",
              "      <td>s10</td>\n",
              "      <td>18</td>\n",
              "      <td>stim</td>\n",
              "      <td>parietal</td>\n",
              "      <td>-0.037970</td>\n",
              "    </tr>\n",
              "    <tr>\n",
              "      <th>...</th>\n",
              "      <td>...</td>\n",
              "      <td>...</td>\n",
              "      <td>...</td>\n",
              "      <td>...</td>\n",
              "      <td>...</td>\n",
              "    </tr>\n",
              "    <tr>\n",
              "      <th>1059</th>\n",
              "      <td>s0</td>\n",
              "      <td>8</td>\n",
              "      <td>cue</td>\n",
              "      <td>frontal</td>\n",
              "      <td>0.018165</td>\n",
              "    </tr>\n",
              "    <tr>\n",
              "      <th>1060</th>\n",
              "      <td>s13</td>\n",
              "      <td>7</td>\n",
              "      <td>cue</td>\n",
              "      <td>frontal</td>\n",
              "      <td>-0.029130</td>\n",
              "    </tr>\n",
              "    <tr>\n",
              "      <th>1061</th>\n",
              "      <td>s12</td>\n",
              "      <td>7</td>\n",
              "      <td>cue</td>\n",
              "      <td>frontal</td>\n",
              "      <td>-0.004939</td>\n",
              "    </tr>\n",
              "    <tr>\n",
              "      <th>1062</th>\n",
              "      <td>s11</td>\n",
              "      <td>7</td>\n",
              "      <td>cue</td>\n",
              "      <td>frontal</td>\n",
              "      <td>-0.025367</td>\n",
              "    </tr>\n",
              "    <tr>\n",
              "      <th>1063</th>\n",
              "      <td>s0</td>\n",
              "      <td>0</td>\n",
              "      <td>cue</td>\n",
              "      <td>parietal</td>\n",
              "      <td>-0.006899</td>\n",
              "    </tr>\n",
              "  </tbody>\n",
              "</table>\n",
              "<p>1064 rows × 5 columns</p>\n",
              "</div>"
            ],
            "text/plain": [
              "     subject  timepoint event    region    signal\n",
              "0        s13         18  stim  parietal -0.017552\n",
              "1         s5         14  stim  parietal -0.080883\n",
              "2        s12         18  stim  parietal -0.081033\n",
              "3        s11         18  stim  parietal -0.046134\n",
              "4        s10         18  stim  parietal -0.037970\n",
              "...      ...        ...   ...       ...       ...\n",
              "1059      s0          8   cue   frontal  0.018165\n",
              "1060     s13          7   cue   frontal -0.029130\n",
              "1061     s12          7   cue   frontal -0.004939\n",
              "1062     s11          7   cue   frontal -0.025367\n",
              "1063      s0          0   cue  parietal -0.006899\n",
              "\n",
              "[1064 rows x 5 columns]"
            ]
          },
          "metadata": {
            "tags": []
          },
          "execution_count": 139
        }
      ]
    },
    {
      "cell_type": "code",
      "metadata": {
        "id": "J-R89bYrW2FQ",
        "colab_type": "code",
        "colab": {}
      },
      "source": [
        "measurements = []\n",
        "model = []\n",
        "pearson_correlation = []\n",
        "similarity = []"
      ],
      "execution_count": 0,
      "outputs": []
    },
    {
      "cell_type": "code",
      "metadata": {
        "id": "O_Hu5IHZYirk",
        "colab_type": "code",
        "colab": {}
      },
      "source": [
        "correlations = [0.8198849189,\t0.8039869685,\t0.9078646212,\t0.9168363606,\t0.9302707147,\n",
        "0.3194052148,\t0.3640685641,\t0.6293018891,\t0.7266775068,\t0.8206104938,\n",
        "0.5739562266,\t0.7438889925,\t0.8737898446,\t0.8708718227,\t0.9062292107,\n",
        "0.8250898497,\t0.8642241279,\t0.9058143519,\t0.915790424,\t0.9294108818,\n",
        "0.7092876103,\t0.7024535677,\t0.7591409209,\t0.7570232109,\t0.7612412582,\n",
        "0.765,\t0.859,\t0.891,\t0.922,\t0.932]"
      ],
      "execution_count": 0,
      "outputs": []
    },
    {
      "cell_type": "code",
      "metadata": {
        "id": "Pv-iSg2dnwCY",
        "colab_type": "code",
        "colab": {}
      },
      "source": [
        "#distance\n",
        "correlations = [0.9206217064,\t0.8968443524,\t0.9808595461,\t0.9757108667,\t0.9864055323,\n",
        "0.9475235138,\t0.9617371293,\t0.9778237935,\t0.9839415177,\t0.9879192679,\n",
        "0.9325188687,\t0.9581053932,\t0.9808987745,\t0.9835821734,\t0.9858844077,\n",
        "0.9532529172,\t0.959792942,\t0.9749566208,\t0.9837903365,\t0.9820061769,\n",
        "0.7852672818,\t0.9105540552,\t0.9250764004,\t0.956098387,\t0.9574802596,\n",
        "0.905,\t0.971,\t0.974,\t0.981,\t0.9939]"
      ],
      "execution_count": 0,
      "outputs": []
    },
    {
      "cell_type": "code",
      "metadata": {
        "id": "6MdumYv5Y-k0",
        "colab_type": "code",
        "colab": {}
      },
      "source": [
        "smaf = [\"SMAF\" for i in range(0,5)]\n",
        "SVD = [\"SVD\" for i in range(0,5)]\n",
        "K_SVD = [\"K-SVD\" for i in range(0,5)]\n",
        "S_NMF = [\"S-NMF\" for i in range(0,5)]\n",
        "NN = [\"NN\" for i in range(0,5)]\n",
        "NN_SMAF = [\"NN+SMAF\" for i in range(0,5)]\n",
        "# smaf.append(SVD).append(K_SVD).append(S_NMF).append(NN).append(NN_SMAF)\n",
        "\n",
        "\n",
        "\n"
      ],
      "execution_count": 0,
      "outputs": []
    },
    {
      "cell_type": "code",
      "metadata": {
        "id": "ovN7pue9Zkkl",
        "colab_type": "code",
        "colab": {}
      },
      "source": [
        "models = smaf + SVD + K_SVD + S_NMF + NN + NN_SMAF"
      ],
      "execution_count": 0,
      "outputs": []
    },
    {
      "cell_type": "code",
      "metadata": {
        "id": "IAw2xgJFaZIf",
        "colab_type": "code",
        "colab": {
          "base_uri": "https://localhost:8080/",
          "height": 527
        },
        "outputId": "a546089f-4af0-4a78-cd47-4e854da521c7"
      },
      "source": [
        "meas = [20,50,100,200,300] +[20,50,100,200,300]+[20,50,100,200,300]+[20,50,100,200,300]+[20,50,100,200,300]+[20,50,100,200,300]\n",
        "meas\n",
        "# [meas + meas for i in range(0,4)]"
      ],
      "execution_count": 62,
      "outputs": [
        {
          "output_type": "execute_result",
          "data": {
            "text/plain": [
              "[20,\n",
              " 50,\n",
              " 100,\n",
              " 200,\n",
              " 300,\n",
              " 20,\n",
              " 50,\n",
              " 100,\n",
              " 200,\n",
              " 300,\n",
              " 20,\n",
              " 50,\n",
              " 100,\n",
              " 200,\n",
              " 300,\n",
              " 20,\n",
              " 50,\n",
              " 100,\n",
              " 200,\n",
              " 300,\n",
              " 20,\n",
              " 50,\n",
              " 100,\n",
              " 200,\n",
              " 300,\n",
              " 20,\n",
              " 50,\n",
              " 100,\n",
              " 200,\n",
              " 300]"
            ]
          },
          "metadata": {
            "tags": []
          },
          "execution_count": 62
        }
      ]
    },
    {
      "cell_type": "code",
      "metadata": {
        "id": "JST6tbLAZo_H",
        "colab_type": "code",
        "colab": {
          "base_uri": "https://localhost:8080/",
          "height": 365
        },
        "outputId": "d89d6e93-6510-44e2-fadb-335d1d391ed9"
      },
      "source": [
        "total_corr = correlations+total_corr\n",
        "import pandas as pd\n",
        "import matplotlib.pyplot as plt\n",
        "import seaborn as sns\n",
        "d = {\"Pearson Correlation\":total_corr,\"model\":mod,\"No. of Measurements\":mes}\n",
        "df = pd.DataFrame(data=d)\n",
        "sns.set(style=\"darkgrid\")\n",
        "x=sns.relplot(x=\"No. of Measurements\", y=\"Pearson Correlation\", kind=\"line\",hue=\"model\", data=df,ci=\"sd\");\n",
        "x.savefig(\"/content/gdrive/My Drive/Colab Notebooks/correlation.png\")"
      ],
      "execution_count": 64,
      "outputs": [
        {
          "output_type": "display_data",
          "data": {
            "image/png": "[encoded data removed]",
            "text/plain": [
              "<Figure size 455.6x360 with 1 Axes>"
            ]
          },
          "metadata": {
            "tags": []
          }
        }
      ]
    },
    {
      "cell_type": "code",
      "metadata": {
        "id": "y_wcHGroZppR",
        "colab_type": "code",
        "colab": {
          "base_uri": "https://localhost:8080/",
          "height": 34
        },
        "outputId": "3c4793e8-64da-4be6-971c-9e79c5374cf7"
      },
      "source": [
        "len(total_corr)"
      ],
      "execution_count": 101,
      "outputs": [
        {
          "output_type": "execute_result",
          "data": {
            "text/plain": [
              "80"
            ]
          },
          "metadata": {
            "tags": []
          },
          "execution_count": 101
        }
      ]
    },
    {
      "cell_type": "code",
      "metadata": {
        "id": "4M0DrVw6ayw7",
        "colab_type": "code",
        "colab": {
          "base_uri": "https://localhost:8080/",
          "height": 34
        },
        "outputId": "65b653f1-2543-4d84-9c6b-8ebeb340df19"
      },
      "source": [
        "len(mes)"
      ],
      "execution_count": 27,
      "outputs": [
        {
          "output_type": "execute_result",
          "data": {
            "text/plain": [
              "330"
            ]
          },
          "metadata": {
            "tags": []
          },
          "execution_count": 27
        }
      ]
    },
    {
      "cell_type": "code",
      "metadata": {
        "id": "q0TC3RU8a1UK",
        "colab_type": "code",
        "colab": {
          "base_uri": "https://localhost:8080/",
          "height": 34
        },
        "outputId": "a53796a6-8fa5-410b-b6e7-463d22ed3dc5"
      },
      "source": [
        "len(total_corr)"
      ],
      "execution_count": 24,
      "outputs": [
        {
          "output_type": "execute_result",
          "data": {
            "text/plain": [
              "330"
            ]
          },
          "metadata": {
            "tags": []
          },
          "execution_count": 24
        }
      ]
    },
    {
      "cell_type": "code",
      "metadata": {
        "id": "GMlhHBCGbSXv",
        "colab_type": "code",
        "colab": {
          "base_uri": "https://localhost:8080/",
          "height": 34
        },
        "outputId": "2b08af56-afa9-4a95-adc8-0cb301159760"
      },
      "source": [
        "5%5"
      ],
      "execution_count": 9,
      "outputs": [
        {
          "output_type": "execute_result",
          "data": {
            "text/plain": [
              "0"
            ]
          },
          "metadata": {
            "tags": []
          },
          "execution_count": 9
        }
      ]
    },
    {
      "cell_type": "code",
      "metadata": {
        "id": "HoRGbpr4bTFe",
        "colab_type": "code",
        "colab": {}
      },
      "source": [
        ""
      ],
      "execution_count": 0,
      "outputs": []
    }
  ]
}